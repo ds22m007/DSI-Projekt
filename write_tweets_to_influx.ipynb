{
 "cells": [
  {
   "cell_type": "code",
   "execution_count": 3,
   "id": "60ceef34-d929-425d-a37e-74be90dbc49d",
   "metadata": {},
   "outputs": [],
   "source": [
    "# import libraries\n",
    "import pandas as pd\n",
    "import json\n",
    "from kafka import KafkaConsumer\n",
    "import influxdb_client\n",
    "from influxdb_client.client.write_api import SYNCHRONOUS\n",
    "\n",
    "# Replace this with the address of your Kafka server\n",
    "kafka_server = \"kafka:9092\"\n",
    "\n",
    "# Replace this with the name of the topic you want to consume from\n",
    "topic_name = \"tweets\"\n",
    "\n",
    "# Create a Kafka consumer\n",
    "consumer = KafkaConsumer(\n",
    "    topic_name,\n",
    "    bootstrap_servers=kafka_server,\n",
    "    auto_offset_reset='earliest',\n",
    "    group_id='influx',\n",
    "    consumer_timeout_ms=10000\n",
    ")\n",
    "\n",
    "bucket = \"DSI_project\" # The name of the bucket you want to write to\n",
    "org = \"dsi\" # The name of the organization you want to write to\n",
    "token = \"SKg6fyRg1uVTpil9kbJfEYD4sWLuXET6hUu3Ql6YdLufUZpVbh3GtwmRAqecWWk1o18MvdBoLZ-tKmgoqok6KA==\" # The token from InfluxDB UI -> Data -> Tokens -> <select token>\n",
    "# Store the URL of your InfluxDB instance\n",
    "url=\"http://influxdb:8086\"\n",
    "\n",
    "# Create the InfluxDB client\n",
    "client = influxdb_client.InfluxDBClient(\n",
    "   url=url,\n",
    "   token=token,\n",
    "   org=org\n",
    ")\n",
    "\n",
    "# Get a handle to the write API\n",
    "write_api = client.write_api(write_options=SYNCHRONOUS)\n",
    "\n",
    "# Read all messages from the topic and write them to InfluxDB with Kafka consumer\n",
    "for message in consumer:\n",
    "    entry = json.loads(message.value)\n",
    "    tweets = int(entry['tweet_count'])\n",
    "    #convert to date from linux timestamp\n",
    "    date = pd.to_datetime(entry['time'], unit='ms')\n",
    "    p1 = influxdb_client.Point(\"twitter\").tag(\"hashtag\", \"tsla\").field('tweets', tweets)\n",
    "    p1.time(date)\n",
    "    write_api.write(bucket=bucket, org=org, record=p1)\n",
    "\n",
    "\n",
    "# Close the consumer\n",
    "consumer.close()"
   ]
  },
  {
   "cell_type": "code",
   "execution_count": null,
   "id": "59000b3b-a951-4916-b77a-0a8417906236",
   "metadata": {},
   "outputs": [],
   "source": []
  }
 ],
 "metadata": {
  "kernelspec": {
   "display_name": "base",
   "language": "python",
   "name": "python3"
  },
  "language_info": {
   "codemirror_mode": {
    "name": "ipython",
    "version": 3
   },
   "file_extension": ".py",
   "mimetype": "text/x-python",
   "name": "python",
   "nbconvert_exporter": "python",
   "pygments_lexer": "ipython3",
   "version": "3.9.12 (main, Apr  4 2022, 05:22:27) [MSC v.1916 64 bit (AMD64)]"
  },
  "vscode": {
   "interpreter": {
    "hash": "9d8a2aa56706f0475aa983bd88b54765f20e6e6d70a842875d22122789babd85"
   }
  }
 },
 "nbformat": 4,
 "nbformat_minor": 5
}
