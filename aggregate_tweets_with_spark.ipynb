{
 "cells": [
  {
   "cell_type": "code",
   "execution_count": 1,
   "id": "3c583297-d015-42e5-b9ca-98b2fced489d",
   "metadata": {},
   "outputs": [],
   "source": [
    "#!pip install findspark\n",
    "# do this only once at the beginning\n",
    "\n",
    "import os\n",
    "import findspark\n",
    "import pyspark\n",
    "\n",
    "SCALA_VERSION = '2.12'\n",
    "SPARK_VERSION = '3.3.1'\n",
    "\n",
    "os.environ['PYSPARK_SUBMIT_ARGS'] = f'--packages org.apache.spark:spark-sql-kafka-0-10_{SCALA_VERSION}:{SPARK_VERSION} pyspark-shell'\n",
    "\n",
    "findspark.add_packages(\"org.apache.spark:spark-sql-kafka-0-10_{SCALA_VERSION}:{SPARK_VERSION}\")\n",
    "findspark.init()\n",
    "\n",
    "# set these variables for executing code on Spark; FOR THIS EXAMPLE NOT POSSIBLE!\n",
    "os.environ['SPARK_HOME'] = '/usr/local/spark'\n",
    "os.environ['PYSPARK_PYTHON'] = 'python3.10'\n",
    "os.environ['PYSPARK_DRIVER_PYTHON'] = 'python3.10'\n",
    "os.environ['PYSPARK_DRIVER_PYTHON_OPTS'] = 'notebook'\n",
    "os.environ['PYSPARK_SUBMIT_ARGS'] = '--jars /usr/local/spark/spark-streaming-kafka-0-8-assembly_2.11-2.4.3.jar pyspark-shell'"
   ]
  },
  {
   "cell_type": "code",
   "execution_count": 2,
   "id": "cf229642-bd51-4d95-b2de-6e4ca7662454",
   "metadata": {},
   "outputs": [],
   "source": [
    "import pandas as pd\n",
    "import json\n",
    "from kafka import KafkaConsumer\n",
    "from pyspark import SparkContext\n",
    "from pyspark.sql import SparkSession\n",
    "from pyspark.sql.types import StructType, StructField, IntegerType\n"
   ]
  },
  {
   "cell_type": "code",
   "execution_count": 3,
   "id": "840f124d-de97-4e6c-ad82-8ec106a7235c",
   "metadata": {},
   "outputs": [
    {
     "data": {
      "text/html": [
       "\n",
       "        <div>\n",
       "            <p><b>SparkContext</b></p>\n",
       "\n",
       "            <p><a href=\"http://4c18ed9ea2f7:4040\">Spark UI</a></p>\n",
       "\n",
       "            <dl>\n",
       "              <dt>Version</dt>\n",
       "                <dd><code>v3.3.1</code></dd>\n",
       "              <dt>Master</dt>\n",
       "                <dd><code>local[*]</code></dd>\n",
       "              <dt>AppName</dt>\n",
       "                <dd><code>tweet-data</code></dd>\n",
       "            </dl>\n",
       "        </div>\n",
       "        "
      ],
      "text/plain": [
       "<SparkContext master=local[*] appName=tweet-data>"
      ]
     },
     "execution_count": 3,
     "metadata": {},
     "output_type": "execute_result"
    }
   ],
   "source": [
    "# Spark session & context\n",
    "spark = (SparkSession\n",
    "         .builder\n",
    "         .master(\"local[*]\")\n",
    "         .appName('tweet-data')\n",
    "         # Add kafka package\n",
    "         .config(\"spark.jars.packages\", \"org.apache.spark:spark-sql-kafka-0-10_2.12:3.3.0\")\n",
    "         .getOrCreate())\n",
    "\n",
    "sc = spark.sparkContext\n",
    "\n",
    "sc"
   ]
  },
  {
   "cell_type": "code",
   "execution_count": 4,
   "id": "4b7789c6-0654-49df-9a50-9daf4dc1a3ca",
   "metadata": {},
   "outputs": [],
   "source": [
    "# Create stream dataframe setting kafka server, topic and offset option\n",
    "df = (spark\n",
    "  .readStream\n",
    "  .format(\"kafka\")\n",
    "  .option(\"kafka.bootstrap.servers\", \"kafka:9092\") # kafka server\n",
    "  .option(\"subscribe\", \"tweets\") # topic\n",
    "  .option(\"startingOffsets\", \"earliest\") # start from beginning \n",
    "  .load())"
   ]
  },
  {
   "cell_type": "code",
   "execution_count": 5,
   "id": "8dd0de7a-bf47-40b9-a950-e99e88cc1702",
   "metadata": {},
   "outputs": [],
   "source": [
    "from pyspark.sql.types import StringType\n",
    "\n",
    "# Convert binary to string key and value\n",
    "df1 = (df\n",
    "    .withColumn(\"key\", df[\"key\"].cast(StringType()))\n",
    "    .withColumn(\"value\", df[\"value\"].cast(StringType())))"
   ]
  },
  {
   "cell_type": "code",
   "execution_count": 6,
   "id": "4a367bcd-b0af-4c28-9f4d-6f82637ee7b6",
   "metadata": {},
   "outputs": [],
   "source": [
    "from pyspark.sql.functions import from_json,col, from_unixtime, to_date, to_timestamp\n",
    "from pyspark.sql.types import StructType, StructField, BooleanType, LongType, IntegerType\n",
    "\n",
    "# Event data schema\n",
    "schema_tweets = StructType(\n",
    "     [StructField(\"tweet_count\",IntegerType(),True),\n",
    "     StructField(\"time\",LongType(),True)])\n",
    "\n",
    "# Create dataframe setting schema for event data\n",
    "df_tweets = (df1\n",
    "           # Sets schema for event data\n",
    "           .withColumn(\"value\", from_json(\"value\", schema_tweets))\n",
    "          )\n",
    "\n",
    "df_tweets_formatted = (df_tweets.select(\n",
    "    to_timestamp(from_unixtime(col(\"value.time\")/1000)).alias(\"timestamp\"),\n",
    "    col(\"value.tweet_count\").alias(\"tweets\")))"
   ]
  },
  {
   "cell_type": "code",
   "execution_count": 7,
   "id": "d8de4367-6ba3-4492-81de-d00f2839a9d3",
   "metadata": {},
   "outputs": [],
   "source": [
    "# Start query stream over stream dataframe\n",
    "raw_path = \"parquet_file\"\n",
    "checkpoint_path = \"parquet_checkpoint\"\n",
    "\n",
    "queryStream =(\n",
    "    df_tweets_formatted\n",
    "    .writeStream\n",
    "    .format(\"parquet\")\n",
    "    .queryName(\"tweet_ingestion\")\n",
    "    .option(\"checkpointLocation\", checkpoint_path)\n",
    "    .option(\"path\", raw_path)\n",
    "    .outputMode(\"append\")\n",
    "    .partitionBy(\"timestamp\")\n",
    "    .start())"
   ]
  },
  {
   "cell_type": "code",
   "execution_count": 8,
   "id": "a89ce88a-9fc2-4566-ae43-7b5608c4b16a",
   "metadata": {},
   "outputs": [],
   "source": [
    "# Read parquet files as stream to output the number of rows\n",
    "df_tweets_change = (\n",
    "    spark\n",
    "    .readStream\n",
    "    .format(\"parquet\")\n",
    "    .schema(df_tweets_formatted.schema)\n",
    "    .load(raw_path)\n",
    ")"
   ]
  },
  {
   "cell_type": "code",
   "execution_count": 9,
   "id": "5f70de73-e62b-4724-9313-76ea8516fb8b",
   "metadata": {},
   "outputs": [],
   "source": [
    "# Output to memory to count rows\n",
    "queryStreamMem = (df_tweets_change\n",
    " .writeStream\n",
    " .format(\"memory\")\n",
    " .queryName(\"df_tweets_change\")\n",
    " .outputMode(\"update\")\n",
    " .start())"
   ]
  },
  {
   "cell_type": "code",
   "execution_count": 37,
   "id": "f8e77e6e-d490-4f71-89bb-b0f52200cf12",
   "metadata": {},
   "outputs": [],
   "source": [
    "# Create dataframe grouping by window \n",
    "from pyspark.sql.functions import window, col, current_timestamp\n",
    "\n",
    "df_count = (\n",
    "    df_tweets_change\n",
    "    .withWatermark(\"timestamp\", \"1 day\")\n",
    "    .groupBy(window(col(\"timestamp\"), \"1 day\"))\n",
    "    .sum('tweets'))\n",
    "\n",
    "df_count2 = (df_count.select(\n",
    "    col(\"window.start\").alias(\"start\"),\n",
    "    col(\"window.end\").alias(\"end\"),\n",
    "    col(\"sum(tweets)\").alias(\"tweets\")\n",
    "))"
   ]
  },
  {
   "cell_type": "code",
   "execution_count": 38,
   "id": "8f935d1d-2114-4d60-a5c5-a1b4ff2f1e2b",
   "metadata": {},
   "outputs": [
    {
     "data": {
      "text/plain": [
       "DataFrame[start: timestamp, end: timestamp, tweets: bigint]"
      ]
     },
     "metadata": {},
     "output_type": "display_data"
    }
   ],
   "source": [
    "display(df_count2)"
   ]
  },
  {
   "cell_type": "code",
   "execution_count": 40,
   "id": "2e93b9a2-cbd8-4e7a-8911-5ae4105334ef",
   "metadata": {},
   "outputs": [],
   "source": [
    "# Create query stream with memory sink\n",
    "queryStream = (df_count2\n",
    " .writeStream\n",
    " .format(\"memory\")\n",
    " .queryName(\"tweets_change6\")\n",
    " .outputMode(\"update\")\n",
    " .start())"
   ]
  },
  {
   "cell_type": "code",
   "execution_count": 46,
   "id": "ac396172-3394-4dff-a6b7-56fda20248d3",
   "metadata": {},
   "outputs": [
    {
     "name": "stderr",
     "output_type": "stream",
     "text": [
      "/usr/local/spark/python/pyspark/sql/pandas/conversion.py:248: FutureWarning: Passing unit-less datetime64 dtype to .astype is deprecated and will raise in a future version. Pass 'datetime64[ns]' instead\n",
      "  series = series.astype(t, copy=False)\n",
      "/usr/local/spark/python/pyspark/sql/pandas/conversion.py:248: FutureWarning: Passing unit-less datetime64 dtype to .astype is deprecated and will raise in a future version. Pass 'datetime64[ns]' instead\n",
      "  series = series.astype(t, copy=False)\n"
     ]
    }
   ],
   "source": [
    "        df_pandas = spark.sql(\n",
    "                \"\"\"\n",
    "                    select\n",
    "                        start\n",
    "                        ,end\n",
    "                        ,sum(tweets)\n",
    "                    from\n",
    "                        tweets_change6\n",
    "                    group by\n",
    "                        start\n",
    "                        ,end\n",
    "                    order by\n",
    "                        3 desc\n",
    "                \"\"\"\n",
    "        ).toPandas()"
   ]
  },
  {
   "cell_type": "code",
   "execution_count": 47,
   "id": "8e8dceba-5f3d-469c-ba20-35ef30976b12",
   "metadata": {},
   "outputs": [
    {
     "data": {
      "text/html": [
       "<div>\n",
       "<style scoped>\n",
       "    .dataframe tbody tr th:only-of-type {\n",
       "        vertical-align: middle;\n",
       "    }\n",
       "\n",
       "    .dataframe tbody tr th {\n",
       "        vertical-align: top;\n",
       "    }\n",
       "\n",
       "    .dataframe thead th {\n",
       "        text-align: right;\n",
       "    }\n",
       "</style>\n",
       "<table border=\"1\" class=\"dataframe\">\n",
       "  <thead>\n",
       "    <tr style=\"text-align: right;\">\n",
       "      <th></th>\n",
       "      <th>start</th>\n",
       "      <th>end</th>\n",
       "      <th>sum(tweets)</th>\n",
       "    </tr>\n",
       "  </thead>\n",
       "  <tbody>\n",
       "    <tr>\n",
       "      <th>0</th>\n",
       "      <td>2023-01-15</td>\n",
       "      <td>2023-01-16</td>\n",
       "      <td>1149</td>\n",
       "    </tr>\n",
       "    <tr>\n",
       "      <th>1</th>\n",
       "      <td>2023-01-17</td>\n",
       "      <td>2023-01-18</td>\n",
       "      <td>987</td>\n",
       "    </tr>\n",
       "    <tr>\n",
       "      <th>2</th>\n",
       "      <td>2023-01-18</td>\n",
       "      <td>2023-01-19</td>\n",
       "      <td>975</td>\n",
       "    </tr>\n",
       "    <tr>\n",
       "      <th>3</th>\n",
       "      <td>2023-01-19</td>\n",
       "      <td>2023-01-20</td>\n",
       "      <td>912</td>\n",
       "    </tr>\n",
       "    <tr>\n",
       "      <th>4</th>\n",
       "      <td>2023-01-20</td>\n",
       "      <td>2023-01-21</td>\n",
       "      <td>875</td>\n",
       "    </tr>\n",
       "    <tr>\n",
       "      <th>5</th>\n",
       "      <td>2023-01-16</td>\n",
       "      <td>2023-01-17</td>\n",
       "      <td>815</td>\n",
       "    </tr>\n",
       "    <tr>\n",
       "      <th>6</th>\n",
       "      <td>2023-01-21</td>\n",
       "      <td>2023-01-22</td>\n",
       "      <td>335</td>\n",
       "    </tr>\n",
       "    <tr>\n",
       "      <th>7</th>\n",
       "      <td>2023-01-14</td>\n",
       "      <td>2023-01-15</td>\n",
       "      <td>298</td>\n",
       "    </tr>\n",
       "  </tbody>\n",
       "</table>\n",
       "</div>"
      ],
      "text/plain": [
       "       start        end  sum(tweets)\n",
       "0 2023-01-15 2023-01-16         1149\n",
       "1 2023-01-17 2023-01-18          987\n",
       "2 2023-01-18 2023-01-19          975\n",
       "3 2023-01-19 2023-01-20          912\n",
       "4 2023-01-20 2023-01-21          875\n",
       "5 2023-01-16 2023-01-17          815\n",
       "6 2023-01-21 2023-01-22          335\n",
       "7 2023-01-14 2023-01-15          298"
      ]
     },
     "execution_count": 47,
     "metadata": {},
     "output_type": "execute_result"
    }
   ],
   "source": [
    "df_pandas"
   ]
  }
 ],
 "metadata": {
  "kernelspec": {
   "display_name": "Python 3 (ipykernel)",
   "language": "python",
   "name": "python3"
  },
  "language_info": {
   "codemirror_mode": {
    "name": "ipython",
    "version": 3
   },
   "file_extension": ".py",
   "mimetype": "text/x-python",
   "name": "python",
   "nbconvert_exporter": "python",
   "pygments_lexer": "ipython3",
   "version": "3.10.6"
  }
 },
 "nbformat": 4,
 "nbformat_minor": 5
}
