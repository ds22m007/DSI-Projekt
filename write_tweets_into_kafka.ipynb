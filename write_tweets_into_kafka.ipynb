{
 "cells": [
  {
   "cell_type": "code",
   "execution_count": 3,
   "id": "fe57157d-b84a-4214-9277-e30849b1532e",
   "metadata": {},
   "outputs": [],
   "source": [
    "#install tweepy and kafka-python as requirements\n",
    "#!pip install tweepy kafka-python"
   ]
  },
  {
   "cell_type": "code",
   "execution_count": 4,
   "id": "06b3f622-3014-4be6-873e-022c6f23e2a5",
   "metadata": {
    "tags": []
   },
   "outputs": [],
   "source": [
    "import tweepy\n",
    "import datetime\n",
    "import pandas as pd\n",
    "from kafka import KafkaProducer\n",
    "\n",
    "#BearerToken is from Twitter-API-Account and is intentionally left blank in the repository\n",
    "bearerToken = \"XXXXXXXXXXXXXXXXXXXXXXXXXXXXXXXXXXXXXXXXXXXXXXXXXXXXXXXXXXXXXXXXXXXXX\"\n",
    "\n",
    "#The kafka server is running in the same docker-compose, therefore it is accessible via the hostname kafka\n",
    "kafka_server = \"kafka:9092\"\n",
    "\n",
    "#We used tweets as the name of the kafka topic\n",
    "topic_name = \"tweets\"\n",
    "\n",
    "producer = KafkaProducer(bootstrap_servers=kafka_server)\n",
    "\n",
    "cl = tweepy.Client(bearer_token=bearerToken)\n",
    "\n",
    "#create datetime 7 days ago\n",
    "start = datetime.datetime.now() - datetime.timedelta(days=7)\n",
    "hashtag = \"#tsla\"\n",
    "\n",
    "#get tweet count for hashtag\n",
    "res = cl.get_recent_tweets_count(hashtag,start_time=start)\n"
   ]
  },
  {
   "cell_type": "code",
   "execution_count": 5,
   "id": "aaafd63d-3cd0-41d0-8600-3b5394d382f3",
   "metadata": {},
   "outputs": [],
   "source": [
    "#convert data to dataframe\n",
    "df = pd.DataFrame.from_dict(res.data)\n",
    "\n",
    "#skip first and last entry because they are no full hours\n",
    "df = df.iloc[1:-1]\n",
    "\n",
    "#convert types\n",
    "df['tweet_count'].astype(int)\n",
    "df['time'] = pd.to_datetime(df['start'])\n",
    "#remove start and end\n",
    "df = df.drop(['start','end'],axis=1)"
   ]
  },
  {
   "cell_type": "code",
   "execution_count": 6,
   "id": "b9b39051-e551-45ef-b274-6cc185964b6d",
   "metadata": {},
   "outputs": [
    {
     "data": {
      "text/html": [
       "<div>\n",
       "<style scoped>\n",
       "    .dataframe tbody tr th:only-of-type {\n",
       "        vertical-align: middle;\n",
       "    }\n",
       "\n",
       "    .dataframe tbody tr th {\n",
       "        vertical-align: top;\n",
       "    }\n",
       "\n",
       "    .dataframe thead th {\n",
       "        text-align: right;\n",
       "    }\n",
       "</style>\n",
       "<table border=\"1\" class=\"dataframe\">\n",
       "  <thead>\n",
       "    <tr style=\"text-align: right;\">\n",
       "      <th></th>\n",
       "      <th>tweet_count</th>\n",
       "      <th>time</th>\n",
       "    </tr>\n",
       "  </thead>\n",
       "  <tbody>\n",
       "    <tr>\n",
       "      <th>1</th>\n",
       "      <td>52</td>\n",
       "      <td>2023-01-14 16:00:00+00:00</td>\n",
       "    </tr>\n",
       "    <tr>\n",
       "      <th>2</th>\n",
       "      <td>44</td>\n",
       "      <td>2023-01-14 17:00:00+00:00</td>\n",
       "    </tr>\n",
       "    <tr>\n",
       "      <th>3</th>\n",
       "      <td>52</td>\n",
       "      <td>2023-01-14 18:00:00+00:00</td>\n",
       "    </tr>\n",
       "    <tr>\n",
       "      <th>4</th>\n",
       "      <td>17</td>\n",
       "      <td>2023-01-14 19:00:00+00:00</td>\n",
       "    </tr>\n",
       "    <tr>\n",
       "      <th>5</th>\n",
       "      <td>27</td>\n",
       "      <td>2023-01-14 20:00:00+00:00</td>\n",
       "    </tr>\n",
       "    <tr>\n",
       "      <th>...</th>\n",
       "      <td>...</td>\n",
       "      <td>...</td>\n",
       "    </tr>\n",
       "    <tr>\n",
       "      <th>163</th>\n",
       "      <td>20</td>\n",
       "      <td>2023-01-21 10:00:00+00:00</td>\n",
       "    </tr>\n",
       "    <tr>\n",
       "      <th>164</th>\n",
       "      <td>11</td>\n",
       "      <td>2023-01-21 11:00:00+00:00</td>\n",
       "    </tr>\n",
       "    <tr>\n",
       "      <th>165</th>\n",
       "      <td>22</td>\n",
       "      <td>2023-01-21 12:00:00+00:00</td>\n",
       "    </tr>\n",
       "    <tr>\n",
       "      <th>166</th>\n",
       "      <td>29</td>\n",
       "      <td>2023-01-21 13:00:00+00:00</td>\n",
       "    </tr>\n",
       "    <tr>\n",
       "      <th>167</th>\n",
       "      <td>44</td>\n",
       "      <td>2023-01-21 14:00:00+00:00</td>\n",
       "    </tr>\n",
       "  </tbody>\n",
       "</table>\n",
       "<p>167 rows × 2 columns</p>\n",
       "</div>"
      ],
      "text/plain": [
       "     tweet_count                      time\n",
       "1             52 2023-01-14 16:00:00+00:00\n",
       "2             44 2023-01-14 17:00:00+00:00\n",
       "3             52 2023-01-14 18:00:00+00:00\n",
       "4             17 2023-01-14 19:00:00+00:00\n",
       "5             27 2023-01-14 20:00:00+00:00\n",
       "..           ...                       ...\n",
       "163           20 2023-01-21 10:00:00+00:00\n",
       "164           11 2023-01-21 11:00:00+00:00\n",
       "165           22 2023-01-21 12:00:00+00:00\n",
       "166           29 2023-01-21 13:00:00+00:00\n",
       "167           44 2023-01-21 14:00:00+00:00\n",
       "\n",
       "[167 rows x 2 columns]"
      ]
     },
     "execution_count": 6,
     "metadata": {},
     "output_type": "execute_result"
    }
   ],
   "source": [
    "#We can take a look at the data from the Twitter API\n",
    "df"
   ]
  },
  {
   "cell_type": "code",
   "execution_count": 14,
   "id": "cb0fc2a3-c51c-4687-919f-2042e58b940f",
   "metadata": {},
   "outputs": [],
   "source": [
    "#write pandas timeseries to kafka topic\n",
    "for index, row in df.iterrows():\n",
    "    data = row.to_json().encode('utf-8')\n",
    "    producer.send(topic_name, data)\n",
    "\n",
    "# Flush the producer to ensure all data is sent\n",
    "producer.flush()"
   ]
  },
  {
   "cell_type": "code",
   "execution_count": null,
   "id": "b595feae-ec77-42b3-9018-c2e890220524",
   "metadata": {},
   "outputs": [],
   "source": []
  }
 ],
 "metadata": {
  "kernelspec": {
   "display_name": "Python 3 (ipykernel)",
   "language": "python",
   "name": "python3"
  },
  "language_info": {
   "codemirror_mode": {
    "name": "ipython",
    "version": 3
   },
   "file_extension": ".py",
   "mimetype": "text/x-python",
   "name": "python",
   "nbconvert_exporter": "python",
   "pygments_lexer": "ipython3",
   "version": "3.10.6"
  }
 },
 "nbformat": 4,
 "nbformat_minor": 5
}
